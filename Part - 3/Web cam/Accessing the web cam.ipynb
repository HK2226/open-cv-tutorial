{
 "cells": [
  {
   "cell_type": "code",
   "execution_count": 1,
   "id": "eee6141c",
   "metadata": {},
   "outputs": [
    {
     "name": "stdout",
     "output_type": "stream",
     "text": [
      "Using matplotlib backend: Qt5Agg\n"
     ]
    }
   ],
   "source": [
    "# Importing the library\n",
    "import cv2\n",
    "%matplotlib auto"
   ]
  },
  {
   "cell_type": "code",
   "execution_count": 2,
   "id": "0fe3ac9f",
   "metadata": {},
   "outputs": [],
   "source": [
    "# define video capture\n",
    "vid = cv2.VideoCapture(0)\n",
    "# to use external web camera connected to the lap replace \"0\" by \"1\""
   ]
  },
  {
   "cell_type": "code",
   "execution_count": 3,
   "id": "0fb1424d",
   "metadata": {},
   "outputs": [],
   "source": [
    "while(True):\n",
    "    # Capture the video\n",
    "    ret, frame = vid.read()\n",
    "    cv2.imshow('Frame',frame)\n",
    "    # press q to quit the camera roll\n",
    "    if cv2.waitKey(1) & 0xFF == ord('q'):\n",
    "        break\n",
    "        \n",
    "# release the video\n",
    "vid.release()\n",
    "cv2.destroyAllWindows()"
   ]
  },
  {
   "cell_type": "code",
   "execution_count": null,
   "id": "91224a8f",
   "metadata": {},
   "outputs": [],
   "source": []
  }
 ],
 "metadata": {
  "kernelspec": {
   "display_name": "Python 3 (ipykernel)",
   "language": "python",
   "name": "python3"
  },
  "language_info": {
   "codemirror_mode": {
    "name": "ipython",
    "version": 3
   },
   "file_extension": ".py",
   "mimetype": "text/x-python",
   "name": "python",
   "nbconvert_exporter": "python",
   "pygments_lexer": "ipython3",
   "version": "3.9.7"
  }
 },
 "nbformat": 4,
 "nbformat_minor": 5
}
