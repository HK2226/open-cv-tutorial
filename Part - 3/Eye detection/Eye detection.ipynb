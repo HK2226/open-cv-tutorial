{
 "cells": [
  {
   "cell_type": "code",
   "execution_count": 2,
   "id": "2ed30c7a",
   "metadata": {},
   "outputs": [
    {
     "name": "stdout",
     "output_type": "stream",
     "text": [
      "Using matplotlib backend: Qt5Agg\n"
     ]
    }
   ],
   "source": [
    "import cv2\n",
    "%matplotlib inline\n",
    "%matplotlib auto\n",
    "import matplotlib.pyplot as plt\n"
   ]
  },
  {
   "cell_type": "code",
   "execution_count": 3,
   "id": "da1cdeed",
   "metadata": {},
   "outputs": [],
   "source": [
    "eye = cv2.CascadeClassifier('eye_detect.xml')"
   ]
  },
  {
   "cell_type": "code",
   "execution_count": 8,
   "id": "d196d06d",
   "metadata": {},
   "outputs": [],
   "source": [
    "def eye_detect1(img):\n",
    "    img_e = img.copy()\n",
    "    eye_detected = eye.detectMultiScale(img_e,scaleFactor = 1.2,minNeighbors = 5)\n",
    "    for(x,y,w,h) in eye_detected:\n",
    "        cv2.rectangle(img_e,(x,y),(x+w , y+h),(0,0,255),10)\n",
    "    return img_e"
   ]
  },
  {
   "cell_type": "code",
   "execution_count": 5,
   "id": "44d52590",
   "metadata": {},
   "outputs": [],
   "source": [
    "# reading the image \n",
    "img = cv2.imread('gl.jpg')\n"
   ]
  },
  {
   "cell_type": "code",
   "execution_count": 9,
   "id": "b4e7b9e3",
   "metadata": {},
   "outputs": [
    {
     "data": {
      "text/plain": [
       "<matplotlib.image.AxesImage at 0x2cd28007100>"
      ]
     },
     "execution_count": 9,
     "metadata": {},
     "output_type": "execute_result"
    }
   ],
   "source": [
    "eye_f = eye_detect1(img)\n",
    "plt.imshow(eye_f)"
   ]
  },
  {
   "cell_type": "code",
   "execution_count": 11,
   "id": "9e85803a",
   "metadata": {},
   "outputs": [
    {
     "data": {
      "text/plain": [
       "32"
      ]
     },
     "execution_count": 11,
     "metadata": {},
     "output_type": "execute_result"
    }
   ],
   "source": [
    "cv2.imshow(\"eye\",eye_f)\n",
    "cv2.waitKey(0)"
   ]
  },
  {
   "cell_type": "code",
   "execution_count": null,
   "id": "34f8d1d6",
   "metadata": {},
   "outputs": [],
   "source": [
    "cv2.imwrite('EYE_D.jpg',eye_f)"
   ]
  },
  {
   "cell_type": "code",
   "execution_count": null,
   "id": "1790c4ae",
   "metadata": {},
   "outputs": [],
   "source": []
  }
 ],
 "metadata": {
  "kernelspec": {
   "display_name": "Python 3 (ipykernel)",
   "language": "python",
   "name": "python3"
  },
  "language_info": {
   "codemirror_mode": {
    "name": "ipython",
    "version": 3
   },
   "file_extension": ".py",
   "mimetype": "text/x-python",
   "name": "python",
   "nbconvert_exporter": "python",
   "pygments_lexer": "ipython3",
   "version": "3.9.7"
  }
 },
 "nbformat": 4,
 "nbformat_minor": 5
}
