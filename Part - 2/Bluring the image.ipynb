{
 "cells": [
  {
   "cell_type": "code",
   "execution_count": 1,
   "id": "6e5c2b3b",
   "metadata": {},
   "outputs": [
    {
     "name": "stdout",
     "output_type": "stream",
     "text": [
      "Using matplotlib backend: Qt5Agg\n"
     ]
    }
   ],
   "source": [
    "# import the libraries\n",
    "import cv2\n",
    "%matplotlib auto"
   ]
  },
  {
   "cell_type": "code",
   "execution_count": 2,
   "id": "3eb05d95",
   "metadata": {},
   "outputs": [],
   "source": [
    "img = cv2.imread(\"hk.jpg\")"
   ]
  },
  {
   "cell_type": "markdown",
   "id": "df2aee95",
   "metadata": {},
   "source": [
    "## Gaussian blur"
   ]
  },
  {
   "cell_type": "code",
   "execution_count": 3,
   "id": "9d3fc6cd",
   "metadata": {},
   "outputs": [
    {
     "data": {
      "text/plain": [
       "-1"
      ]
     },
     "execution_count": 3,
     "metadata": {},
     "output_type": "execute_result"
    }
   ],
   "source": [
    "Gaus = cv2.GaussianBlur(img,(7,7),0)\n",
    "cv2.imshow('GB',Gaus)\n",
    "cv2.waitKey(0)"
   ]
  },
  {
   "cell_type": "markdown",
   "id": "b9f52aef",
   "metadata": {},
   "source": [
    "## Median blur"
   ]
  },
  {
   "cell_type": "code",
   "execution_count": 4,
   "id": "6f995c30",
   "metadata": {},
   "outputs": [
    {
     "data": {
      "text/plain": [
       "-1"
      ]
     },
     "execution_count": 4,
     "metadata": {},
     "output_type": "execute_result"
    }
   ],
   "source": [
    "med = cv2.medianBlur(img,5)\n",
    "cv2.imshow('MB',med)\n",
    "cv2.waitKey(0)"
   ]
  },
  {
   "cell_type": "markdown",
   "id": "b9edb168",
   "metadata": {},
   "source": [
    "## Bilateral blur"
   ]
  },
  {
   "cell_type": "code",
   "execution_count": 5,
   "id": "735791d4",
   "metadata": {},
   "outputs": [
    {
     "data": {
      "text/plain": [
       "-1"
      ]
     },
     "execution_count": 5,
     "metadata": {},
     "output_type": "execute_result"
    }
   ],
   "source": [
    "bil = cv2.bilateralFilter(img,10,75,75)\n",
    "cv2.imshow('BB',bil)\n",
    "cv2.waitKey(0)"
   ]
  },
  {
   "cell_type": "code",
   "execution_count": 6,
   "id": "8d5c9550",
   "metadata": {},
   "outputs": [
    {
     "data": {
      "text/plain": [
       "True"
      ]
     },
     "execution_count": 6,
     "metadata": {},
     "output_type": "execute_result"
    }
   ],
   "source": [
    "cv2.imwrite(\"Gblur.jpg\",Gaus)\n",
    "cv2.imwrite(\"Mblur.jpg\",med)\n",
    "cv2.imwrite(\"Bblur.jpg\",bil)"
   ]
  },
  {
   "cell_type": "code",
   "execution_count": null,
   "id": "7b238056",
   "metadata": {},
   "outputs": [],
   "source": []
  }
 ],
 "metadata": {
  "kernelspec": {
   "display_name": "Python 3 (ipykernel)",
   "language": "python",
   "name": "python3"
  },
  "language_info": {
   "codemirror_mode": {
    "name": "ipython",
    "version": 3
   },
   "file_extension": ".py",
   "mimetype": "text/x-python",
   "name": "python",
   "nbconvert_exporter": "python",
   "pygments_lexer": "ipython3",
   "version": "3.9.7"
  }
 },
 "nbformat": 4,
 "nbformat_minor": 5
}
