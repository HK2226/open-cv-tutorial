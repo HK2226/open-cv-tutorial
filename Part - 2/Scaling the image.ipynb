{
 "cells": [
  {
   "cell_type": "markdown",
   "id": "71ea616d",
   "metadata": {},
   "source": [
    "# Image manipulation\n",
    "\n",
    "Scaling"
   ]
  },
  {
   "cell_type": "code",
   "execution_count": 2,
   "id": "8f1922f6",
   "metadata": {},
   "outputs": [
    {
     "name": "stdout",
     "output_type": "stream",
     "text": [
      "Using matplotlib backend: Qt5Agg\n"
     ]
    }
   ],
   "source": [
    "import cv2\n",
    "import numpy as np\n",
    "%matplotlib auto"
   ]
  },
  {
   "cell_type": "code",
   "execution_count": 5,
   "id": "d79b8264",
   "metadata": {},
   "outputs": [],
   "source": [
    "input_image = cv2.imread(\"hk.jpg\")\n",
    "\n",
    "cv2.imshow(\"normalpic\",input_image)\n",
    "cv2.waitKey(0)\n",
    "\n",
    "# Scaling to its half of the original size\n",
    "scaled1 = cv2.resize(input_image,None,fx=0.5,fy=0.5)\n",
    "cv2.imshow(\"half - scaled\",scaled1)\n",
    "cv2.waitKey(0)\n",
    "\n",
    "# scaling to 1.5 and using inter_area interpolation\n",
    "scaled2 = cv2.resize(input_image,None,fx=1.5,fy=1.5,interpolation=cv2.INTER_AREA)\n",
    "cv2.imshow(\"1.5 - scaled\",scaled2)\n",
    "cv2.waitKey(0)\n",
    "\n",
    "# scaling to 700 x 250\n",
    "scaled1 = cv2.resize(input_image,(700,250),interpolation = cv2.INTER_AREA)\n",
    "cv2.imshow(\"700x250 - scaled\",scaled1)\n",
    "cv2.waitKey(0)\n",
    "\n",
    "cv2.destroyAllWindows()"
   ]
  }
 ],
 "metadata": {
  "kernelspec": {
   "display_name": "Python 3 (ipykernel)",
   "language": "python",
   "name": "python3"
  },
  "language_info": {
   "codemirror_mode": {
    "name": "ipython",
    "version": 3
   },
   "file_extension": ".py",
   "mimetype": "text/x-python",
   "name": "python",
   "nbconvert_exporter": "python",
   "pygments_lexer": "ipython3",
   "version": "3.9.7"
  }
 },
 "nbformat": 4,
 "nbformat_minor": 5
}
