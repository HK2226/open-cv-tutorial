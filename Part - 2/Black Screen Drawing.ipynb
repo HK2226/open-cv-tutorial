{
 "cells": [
  {
   "cell_type": "code",
   "execution_count": 2,
   "id": "09c02b41",
   "metadata": {},
   "outputs": [
    {
     "name": "stdout",
     "output_type": "stream",
     "text": [
      "Using matplotlib backend: Qt5Agg\n"
     ]
    }
   ],
   "source": [
    "import cv2\n",
    "import numpy as np\n",
    "%matplotlib auto"
   ]
  },
  {
   "cell_type": "markdown",
   "id": "a63b6984",
   "metadata": {},
   "source": [
    "# Creating an array with all '0' which will be create a black screen if visualized"
   ]
  },
  {
   "cell_type": "code",
   "execution_count": 3,
   "id": "0470995a",
   "metadata": {},
   "outputs": [],
   "source": [
    "b_img = np.zeros((1024,1024,3),np.uint8)\n",
    "\n",
    "cv2.imshow('Black Screen',b_img)\n",
    "cv2.waitKey(0)\n",
    "cv2.destroyAllWindows()"
   ]
  },
  {
   "cell_type": "markdown",
   "id": "ee38b81c",
   "metadata": {},
   "source": [
    "# Creating a line in the black screen"
   ]
  },
  {
   "cell_type": "code",
   "execution_count": 6,
   "id": "325be470",
   "metadata": {},
   "outputs": [],
   "source": [
    "b_img_1 = np.zeros((1024,1024,3),np.uint8)\n",
    "\n",
    "line_img=cv2.line(b_img_1,(1,1),(250,250),(100,255,0),4)\n",
    "\n",
    "cv2.imshow('green flourescent line',line_img)\n",
    "cv2.waitKey(0)\n",
    "cv2.destroyAllWindows()"
   ]
  },
  {
   "cell_type": "markdown",
   "id": "e9cd6755",
   "metadata": {},
   "source": [
    "# creating a circle the black image"
   ]
  },
  {
   "cell_type": "code",
   "execution_count": 7,
   "id": "f9934ce8",
   "metadata": {},
   "outputs": [],
   "source": [
    "b_img_2 = np.zeros((1024,1024,3),np.uint8)\n",
    "\n",
    "## Solid Circle\n",
    "circle_img_1 = cv2.circle(b_img_2,(200,200),75,(250,0,0),-1)\n",
    "cv2.imshow('solid circle',circle_img_1)\n",
    "cv2.waitKey(0)\n",
    "cv2.destroyAllWindows()"
   ]
  },
  {
   "cell_type": "code",
   "execution_count": 8,
   "id": "144a9e5a",
   "metadata": {},
   "outputs": [],
   "source": [
    "b_img_3 = np.zeros((1024,1024,3),np.uint8)\n",
    "\n",
    "## Solid Circle\n",
    "circle_img_2 = cv2.circle(b_img_3,(200,200),75,(250,0,0),4)\n",
    "cv2.imshow('circle',circle_img_2)\n",
    "cv2.waitKey(0)\n",
    "cv2.destroyAllWindows()"
   ]
  },
  {
   "cell_type": "markdown",
   "id": "c09bb687",
   "metadata": {},
   "source": [
    "# Creating a rectangle"
   ]
  },
  {
   "cell_type": "code",
   "execution_count": 11,
   "id": "f1055049",
   "metadata": {},
   "outputs": [],
   "source": [
    "b_img_4 = np.zeros((1024,1024,3),np.uint8)\n",
    "\n",
    "## Rectangle\n",
    "rectangle_img = cv2.rectangle(b_img_4,(20,20),(100,150),(0,0,255),-1)\n",
    "cv2.imshow('Rectangle',rectangle_img)\n",
    "cv2.waitKey(0)\n",
    "cv2.destroyAllWindows()"
   ]
  },
  {
   "cell_type": "markdown",
   "id": "e31c43b5",
   "metadata": {},
   "source": [
    "# Putting text in the image"
   ]
  },
  {
   "cell_type": "code",
   "execution_count": 12,
   "id": "9eef3394",
   "metadata": {},
   "outputs": [],
   "source": [
    "b_img_5 = np.zeros((1024,1024,3),np.uint8)\n",
    "\n",
    "text_img = cv2.putText(b_img_5,'Hello',(100,100),cv2.FONT_HERSHEY_COMPLEX,2,(0,0,255),4)\n",
    "cv2.imshow('text',text_img)\n",
    "cv2.waitKey(0)\n",
    "cv2.destroyAllWindows()"
   ]
  },
  {
   "cell_type": "code",
   "execution_count": null,
   "id": "81e37c9b",
   "metadata": {},
   "outputs": [],
   "source": [
    "# Drawing a Polygon\n",
    "b_img_6 = np.zeros((1024,1024,3),np.uint8)\n",
    "\n",
    "pts = np.array([[20,100],[70,185],[35,500],[100,285]],np.int32)\n",
    "\n",
    "pts = pts.reshape((-1,1,2))\n",
    "poly_img = cv2.polylines(b_img_6,[pts],True,(0,0,255),4)\n",
    "cv2.imshow('polygon',poly_img)\n",
    "cv2.waitKey(0)\n",
    "cv2.destroyAllWindows()"
   ]
  }
 ],
 "metadata": {
  "kernelspec": {
   "display_name": "Python 3 (ipykernel)",
   "language": "python",
   "name": "python3"
  },
  "language_info": {
   "codemirror_mode": {
    "name": "ipython",
    "version": 3
   },
   "file_extension": ".py",
   "mimetype": "text/x-python",
   "name": "python",
   "nbconvert_exporter": "python",
   "pygments_lexer": "ipython3",
   "version": "3.9.7"
  }
 },
 "nbformat": 4,
 "nbformat_minor": 5
}
