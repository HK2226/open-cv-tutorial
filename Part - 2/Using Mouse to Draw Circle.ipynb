{
 "cells": [
  {
   "cell_type": "markdown",
   "id": "3625a224",
   "metadata": {},
   "source": [
    "# Drawing a circle with mouse click\n",
    "\n",
    "* This circles have fixed radius = 50\n",
    "* fixed color = Blue\n",
    "* solid cicle -> Flag = -1\n",
    "* left click of the mouse to draw the circle"
   ]
  },
  {
   "cell_type": "markdown",
   "id": "33200e85",
   "metadata": {},
   "source": [
    "### STEPS TO BE FOLLOWED\n",
    "\n",
    "1) Import the required libraries  \n",
    "\n",
    "2) Defining a function to draw the circle\n",
    "\n",
    "3) Naming the window to display and callback draw_circle function\n",
    "\n",
    "4) Creating a black screen to draw the circles\n",
    "\n",
    "5) Displaying the screen (MAIN)"
   ]
  },
  {
   "cell_type": "code",
   "execution_count": 2,
   "id": "7a264238",
   "metadata": {},
   "outputs": [
    {
     "name": "stdout",
     "output_type": "stream",
     "text": [
      "Using matplotlib backend: Qt5Agg\n"
     ]
    }
   ],
   "source": [
    "# Importing the Libraries\n",
    "\n",
    "import cv2\n",
    "import numpy as np\n",
    "%matplotlib auto\n",
    "\n",
    "####################################################\n",
    "\n",
    "# Function to draw the circle\n",
    "\n",
    "def draw_circle(event,x,y,flagval,par):\n",
    "    if event == cv2.EVENT_LBUTTONDOWN:\n",
    "        cv2.circle(image_window,(x,y),50,(255,0,0),-1)\n",
    "        \n",
    "#####################################################\n",
    "        \n",
    "# Naming the Window and Passing the function\n",
    "\n",
    "cv2.namedWindow(winname = 'Image_Window')\n",
    "cv2.setMouseCallback('Image_Window',draw_circle)\n",
    "\n",
    "#####################################################\n",
    "\n",
    "# Creating a black screen\n",
    "\n",
    "image_window = np.zeros((1024,1024,3),np.uint8)\n",
    "\n",
    "#####################################################\n",
    "\n",
    "# Displaying \n",
    "\n",
    "while True:\n",
    "    cv2.imshow('Image_Window',image_window)\n",
    "    \n",
    "    if cv2.waitKey(1) & 0xFF == 27: # Press esc button to leave the screen\n",
    "        break\n",
    "\n",
    "cv2.destroyAllWindows()\n",
    "\n",
    "#-----------------------------------------------------#"
   ]
  },
  {
   "cell_type": "code",
   "execution_count": 3,
   "id": "f84ef41e",
   "metadata": {},
   "outputs": [],
   "source": [
    "# Thses code may not if they are executed in different cells"
   ]
  }
 ],
 "metadata": {
  "kernelspec": {
   "display_name": "Python 3 (ipykernel)",
   "language": "python",
   "name": "python3"
  },
  "language_info": {
   "codemirror_mode": {
    "name": "ipython",
    "version": 3
   },
   "file_extension": ".py",
   "mimetype": "text/x-python",
   "name": "python",
   "nbconvert_exporter": "python",
   "pygments_lexer": "ipython3",
   "version": "3.9.7"
  }
 },
 "nbformat": 4,
 "nbformat_minor": 5
}
