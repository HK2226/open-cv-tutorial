{
 "cells": [
  {
   "cell_type": "code",
   "execution_count": 1,
   "id": "23af8a7f",
   "metadata": {},
   "outputs": [
    {
     "name": "stdout",
     "output_type": "stream",
     "text": [
      "Using matplotlib backend: Qt5Agg\n"
     ]
    }
   ],
   "source": [
    "import cv2\n",
    "%matplotlib auto"
   ]
  },
  {
   "cell_type": "code",
   "execution_count": 2,
   "id": "2d24cfb8",
   "metadata": {},
   "outputs": [],
   "source": [
    "img = cv2.imread(\"hk.jpg\")"
   ]
  },
  {
   "cell_type": "markdown",
   "id": "4934be61",
   "metadata": {},
   "source": [
    "# Lets draw an line in the image"
   ]
  },
  {
   "cell_type": "code",
   "execution_count": 3,
   "id": "67d80c8b",
   "metadata": {},
   "outputs": [],
   "source": [
    "# start point, end point and thickness of an image\n",
    "\n",
    "start = (500,100)\n",
    "end = (500,1000)\n",
    "thick = 8\n",
    "\n",
    "# Color for the line\n",
    "color = (0,0,250)\n"
   ]
  },
  {
   "cell_type": "code",
   "execution_count": 4,
   "id": "09f9249d",
   "metadata": {},
   "outputs": [],
   "source": [
    "img = cv2.line(img,start,end,color,thick)"
   ]
  },
  {
   "cell_type": "code",
   "execution_count": 5,
   "id": "a87786a8",
   "metadata": {},
   "outputs": [
    {
     "data": {
      "text/plain": [
       "<function destroyAllWindows>"
      ]
     },
     "execution_count": 5,
     "metadata": {},
     "output_type": "execute_result"
    }
   ],
   "source": [
    "# display the image\n",
    "cv2.imshow('line image',img)\n",
    "cv2.waitKey(0)\n",
    "cv2.destroyAllWindows"
   ]
  },
  {
   "cell_type": "code",
   "execution_count": 6,
   "id": "00694507",
   "metadata": {},
   "outputs": [
    {
     "data": {
      "text/plain": [
       "True"
      ]
     },
     "execution_count": 6,
     "metadata": {},
     "output_type": "execute_result"
    }
   ],
   "source": [
    "# saving the image\n",
    "cv2.imwrite(\"line.jpg\",img)"
   ]
  },
  {
   "cell_type": "code",
   "execution_count": null,
   "id": "915f5075",
   "metadata": {},
   "outputs": [],
   "source": []
  }
 ],
 "metadata": {
  "kernelspec": {
   "display_name": "Python 3 (ipykernel)",
   "language": "python",
   "name": "python3"
  },
  "language_info": {
   "codemirror_mode": {
    "name": "ipython",
    "version": 3
   },
   "file_extension": ".py",
   "mimetype": "text/x-python",
   "name": "python",
   "nbconvert_exporter": "python",
   "pygments_lexer": "ipython3",
   "version": "3.9.7"
  }
 },
 "nbformat": 4,
 "nbformat_minor": 5
}
