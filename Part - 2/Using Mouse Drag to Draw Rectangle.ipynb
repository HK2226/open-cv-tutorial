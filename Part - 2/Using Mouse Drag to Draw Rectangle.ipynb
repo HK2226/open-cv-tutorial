{
 "cells": [
  {
   "cell_type": "markdown",
   "id": "b2e7984a",
   "metadata": {},
   "source": [
    "# Drawing images with mouse drag"
   ]
  },
  {
   "cell_type": "code",
   "execution_count": null,
   "id": "4624df03",
   "metadata": {},
   "outputs": [
    {
     "name": "stdout",
     "output_type": "stream",
     "text": [
      "Using matplotlib backend: Qt5Agg\n"
     ]
    }
   ],
   "source": [
    "#Importing the required libraries\n",
    "import cv2\n",
    "import numpy as np\n",
    "%matplotlib auto\n",
    "\n",
    "#--------------------------------------------------------------------------------------------#\n",
    "\n",
    "#Defining required variables\n",
    "draw = False # this is to indicate that the mouse is not clicked\n",
    "ix,iy = -1,-1 # initial position of the mouse the draw\n",
    "\n",
    "#---------------------------------------------------------------------------------------------#\n",
    "\n",
    "#Function to draw rectangle\n",
    "def rec_shape(event,x,y,flagval,par): # all the parameters are important\n",
    "    \n",
    "    global draw,ix,iy;\n",
    "    \n",
    "    if event == cv2.EVENT_LBUTTONDOWN: #If the mouse button is pressed\n",
    "        draw = True\n",
    "        ix,iy = x,y #Saving the start mouse position\n",
    "    elif event == cv2.EVENT_MOUSEMOVE: #If the mouse id dragged\n",
    "        if draw == True: #Mouse button is also pressed\n",
    "            cv2.rectangle(image_window,(ix,iy),(x,y),(0,0,255),-1)\n",
    "    elif event == cv2.EVENT_LBUTTONUP: #If the mouse button is realeased\n",
    "        draw = False\n",
    "        cv2.rectangle(image_window,(ix,iy),(x,y),(0,0,255),-1)\n",
    "        \n",
    "#---------------------------------------------------------------------------------------------#\n",
    "\n",
    "#Creating a black screen\n",
    "image_window = np.zeros((1024,1024,3),np.uint8)\n",
    "\n",
    "#Naming the window\n",
    "cv2.namedWindow(winname = 'Image_Window')\n",
    "\n",
    "#---------------------------------------------------------------------------------------------#\n",
    "\n",
    "# Function callback\n",
    "cv2.setMouseCallback(\"Image_Window\",rec_shape)\n",
    "\n",
    "#---------------------------------------------------------------------------------------------#\n",
    "\n",
    "#Displaying the screen\n",
    "\n",
    "while True:\n",
    "    cv2.imshow(\"Image_Window\",image_window)\n",
    "    \n",
    "    if cv2.waitKey(1) & 0xFF ==27:\n",
    "        break;\n",
    "cv2.destroyAllWindows()"
   ]
  },
  {
   "cell_type": "code",
   "execution_count": null,
   "id": "50e13fd8",
   "metadata": {},
   "outputs": [],
   "source": []
  }
 ],
 "metadata": {
  "kernelspec": {
   "display_name": "Python 3 (ipykernel)",
   "language": "python",
   "name": "python3"
  },
  "language_info": {
   "codemirror_mode": {
    "name": "ipython",
    "version": 3
   },
   "file_extension": ".py",
   "mimetype": "text/x-python",
   "name": "python",
   "nbconvert_exporter": "python",
   "pygments_lexer": "ipython3",
   "version": "3.9.7"
  }
 },
 "nbformat": 4,
 "nbformat_minor": 5
}
