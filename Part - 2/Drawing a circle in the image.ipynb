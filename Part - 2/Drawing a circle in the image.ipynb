{
 "cells": [
  {
   "cell_type": "code",
   "execution_count": 1,
   "id": "e152ac1f",
   "metadata": {},
   "outputs": [
    {
     "name": "stdout",
     "output_type": "stream",
     "text": [
      "Using matplotlib backend: Qt5Agg\n"
     ]
    }
   ],
   "source": [
    "# importing the library\n",
    "import cv2\n",
    "%matplotlib auto"
   ]
  },
  {
   "cell_type": "code",
   "execution_count": 2,
   "id": "9afccbba",
   "metadata": {},
   "outputs": [],
   "source": [
    "# read the image\n",
    "img = cv2.imread(\"hk.jpg\")"
   ]
  },
  {
   "cell_type": "code",
   "execution_count": 3,
   "id": "82701710",
   "metadata": {},
   "outputs": [],
   "source": [
    "#center co-ordinate,radius thickness\n",
    "center = (1500,240)\n",
    "rad = 90\n",
    "color = (0,0,255)\n",
    "thick = 2"
   ]
  },
  {
   "cell_type": "code",
   "execution_count": 4,
   "id": "6af98dcc",
   "metadata": {},
   "outputs": [],
   "source": [
    "# drawing the circle\n",
    "img = cv2.circle(img,center,rad,color,thick)"
   ]
  },
  {
   "cell_type": "code",
   "execution_count": 5,
   "id": "15e30c37",
   "metadata": {},
   "outputs": [
    {
     "data": {
      "text/plain": [
       "-1"
      ]
     },
     "execution_count": 5,
     "metadata": {},
     "output_type": "execute_result"
    }
   ],
   "source": [
    "cv2.imshow(\"display circle\",img)\n",
    "cv2.waitKey(0)"
   ]
  },
  {
   "cell_type": "code",
   "execution_count": 7,
   "id": "640ef0b2",
   "metadata": {},
   "outputs": [
    {
     "data": {
      "text/plain": [
       "True"
      ]
     },
     "execution_count": 7,
     "metadata": {},
     "output_type": "execute_result"
    }
   ],
   "source": [
    "# saving\n",
    "cv2.imwrite(\"circle.jpg\",img)"
   ]
  },
  {
   "cell_type": "code",
   "execution_count": null,
   "id": "397d10f9",
   "metadata": {},
   "outputs": [],
   "source": []
  }
 ],
 "metadata": {
  "kernelspec": {
   "display_name": "Python 3 (ipykernel)",
   "language": "python",
   "name": "python3"
  },
  "language_info": {
   "codemirror_mode": {
    "name": "ipython",
    "version": 3
   },
   "file_extension": ".py",
   "mimetype": "text/x-python",
   "name": "python",
   "nbconvert_exporter": "python",
   "pygments_lexer": "ipython3",
   "version": "3.9.7"
  }
 },
 "nbformat": 4,
 "nbformat_minor": 5
}
