{
 "cells": [
  {
   "cell_type": "code",
   "execution_count": 1,
   "id": "dafb86e9",
   "metadata": {},
   "outputs": [
    {
     "name": "stdout",
     "output_type": "stream",
     "text": [
      "Using matplotlib backend: Qt5Agg\n"
     ]
    }
   ],
   "source": [
    "import cv2\n",
    "%matplotlib auto"
   ]
  },
  {
   "cell_type": "code",
   "execution_count": 2,
   "id": "74dd7466",
   "metadata": {},
   "outputs": [],
   "source": [
    "img = cv2.imread(\"hk.jpg\")"
   ]
  },
  {
   "cell_type": "code",
   "execution_count": 3,
   "id": "2cd6e175",
   "metadata": {},
   "outputs": [],
   "source": [
    "# font,start point,font size,color,thinkness\n",
    "\n",
    "font = cv2.FONT_HERSHEY_TRIPLEX\n",
    "start = (300,300)\n",
    "size = 2\n",
    "color = (0,0,255)\n",
    "thick = 2"
   ]
  },
  {
   "cell_type": "code",
   "execution_count": 4,
   "id": "3d8a0a92",
   "metadata": {},
   "outputs": [],
   "source": [
    "img = cv2.putText(img,\"Nezuko :)\",start,font,size,color,thick)"
   ]
  },
  {
   "cell_type": "code",
   "execution_count": 5,
   "id": "ced8ada8",
   "metadata": {},
   "outputs": [
    {
     "data": {
      "text/plain": [
       "-1"
      ]
     },
     "execution_count": 5,
     "metadata": {},
     "output_type": "execute_result"
    }
   ],
   "source": [
    "cv2.imshow(\"display\",img)\n",
    "cv2.waitKey(0)"
   ]
  },
  {
   "cell_type": "code",
   "execution_count": 6,
   "id": "11c2a5e8",
   "metadata": {},
   "outputs": [
    {
     "data": {
      "text/plain": [
       "True"
      ]
     },
     "execution_count": 6,
     "metadata": {},
     "output_type": "execute_result"
    }
   ],
   "source": [
    "cv2.imwrite(\"text.jpg\",img)"
   ]
  },
  {
   "cell_type": "code",
   "execution_count": null,
   "id": "2d428cff",
   "metadata": {},
   "outputs": [],
   "source": []
  }
 ],
 "metadata": {
  "kernelspec": {
   "display_name": "Python 3 (ipykernel)",
   "language": "python",
   "name": "python3"
  },
  "language_info": {
   "codemirror_mode": {
    "name": "ipython",
    "version": 3
   },
   "file_extension": ".py",
   "mimetype": "text/x-python",
   "name": "python",
   "nbconvert_exporter": "python",
   "pygments_lexer": "ipython3",
   "version": "3.9.7"
  }
 },
 "nbformat": 4,
 "nbformat_minor": 5
}
