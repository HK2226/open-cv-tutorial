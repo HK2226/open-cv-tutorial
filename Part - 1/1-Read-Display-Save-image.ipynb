{
 "cells": [
  {
   "cell_type": "code",
   "execution_count": 1,
   "id": "184d9664",
   "metadata": {},
   "outputs": [
    {
     "name": "stdout",
     "output_type": "stream",
     "text": [
      "Using matplotlib backend: Qt5Agg\n"
     ]
    }
   ],
   "source": [
    "# importing the needed library\n",
    "import cv2\n",
    "# this saves us from some anomaly\n",
    "%matplotlib auto "
   ]
  },
  {
   "cell_type": "markdown",
   "id": "69a6d8de",
   "metadata": {},
   "source": [
    "# Reading an image\n",
    "* Syntax\n",
    "> cv2.imread(path,flag)\n",
    "\n",
    "* Flag\n",
    "    * color image =  cv2.IMREAD_COLOR\n",
    "    * black and white = cv2.IMREAD_GRAYSCALE\n",
    "    * unchanged =  cv2.IMREAD_UNCHANGED"
   ]
  },
  {
   "cell_type": "code",
   "execution_count": 2,
   "id": "85b9a45c",
   "metadata": {},
   "outputs": [],
   "source": [
    "img = cv2.imread('hk.jpg')\n",
    "# to cover the image in black and white\n",
    "# img = cv2.imread('hk.jpg',cv2.IMREAD_GRAYSCALE)"
   ]
  },
  {
   "cell_type": "markdown",
   "id": "81206c66",
   "metadata": {},
   "source": [
    "# Displaying the image \n",
    "* Syntax\n",
    "> cv2.imshow(name,image)"
   ]
  },
  {
   "cell_type": "code",
   "execution_count": 3,
   "id": "78376945",
   "metadata": {},
   "outputs": [],
   "source": [
    "window_name=\"display\"\n",
    "# A seperate tab will be opened.\n",
    "cv2.imshow(window_name,img)\n",
    "\n",
    "# to avoid kernel crash\n",
    "# to close the image window u can press any key\n",
    "cv2.waitKey(0)\n",
    "\n",
    "# closing all windows\n",
    "cv2.destroyAllWindows()"
   ]
  },
  {
   "cell_type": "markdown",
   "id": "e5005085",
   "metadata": {},
   "source": [
    "# Writing and saving the image\n",
    "* Syntax\n",
    "> cv2.imwrite(filename,image)\n",
    "\n",
    "* filename = abc.jpg/abc.png...."
   ]
  },
  {
   "cell_type": "code",
   "execution_count": 4,
   "id": "10568c35",
   "metadata": {},
   "outputs": [],
   "source": [
    "# resizing the image\n",
    "imr = cv2.resize(img,(80,80))"
   ]
  },
  {
   "cell_type": "code",
   "execution_count": 5,
   "id": "e2947eda",
   "metadata": {},
   "outputs": [
    {
     "data": {
      "text/plain": [
       "True"
      ]
     },
     "execution_count": 5,
     "metadata": {},
     "output_type": "execute_result"
    }
   ],
   "source": [
    "filename = \"test.jpg\"\n",
    "cv2.imwrite(filename,imr)"
   ]
  },
  {
   "cell_type": "code",
   "execution_count": 6,
   "id": "4a41b3b2",
   "metadata": {},
   "outputs": [],
   "source": [
    "# Check your folder"
   ]
  }
 ],
 "metadata": {
  "kernelspec": {
   "display_name": "Python 3 (ipykernel)",
   "language": "python",
   "name": "python3"
  },
  "language_info": {
   "codemirror_mode": {
    "name": "ipython",
    "version": 3
   },
   "file_extension": ".py",
   "mimetype": "text/x-python",
   "name": "python",
   "nbconvert_exporter": "python",
   "pygments_lexer": "ipython3",
   "version": "3.9.7"
  }
 },
 "nbformat": 4,
 "nbformat_minor": 5
}
